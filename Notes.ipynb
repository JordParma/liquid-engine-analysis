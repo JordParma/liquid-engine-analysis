{
 "cells": [
  {
   "cell_type": "markdown",
   "metadata": {},
   "source": [
    "## Optimization Paths\n",
    "\n",
    "### Options:\n",
    "\n",
    "- Active control on launch (allows lower TWR on launch)\n",
    "- Special engine with high initial TWR and then throttles back\n",
    "    - Add 4 new design variables: % duty cycle at 10s, 20s, 30s, 40s, example, add minimum\n",
    "    - expect 60% to 110% of design\n",
    "    - Define 4 values for mdot for our trajectory function\n",
    "- "
   ]
  }
 ],
 "metadata": {
  "kernelspec": {
   "display_name": "Python 3",
   "language": "python",
   "name": "python3"
  },
  "language_info": {
   "codemirror_mode": {
    "name": "ipython",
    "version": 3
   },
   "file_extension": ".py",
   "mimetype": "text/x-python",
   "name": "python",
   "nbconvert_exporter": "python",
   "pygments_lexer": "ipython3",
   "version": "3.6.0"
  }
 },
 "nbformat": 4,
 "nbformat_minor": 2
}
